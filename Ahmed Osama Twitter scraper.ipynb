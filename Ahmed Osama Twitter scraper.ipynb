{
 "cells": [
  {
   "cell_type": "code",
   "execution_count": 32,
   "id": "ca596137",
   "metadata": {},
   "outputs": [
    {
     "name": "stdout",
     "output_type": "stream",
     "text": [
      "Requirement already satisfied: thefuzz in c:\\users\\user\\anaconda3\\lib\\site-packages (0.22.1)Note: you may need to restart the kernel to use updated packages.\n",
      "Requirement already satisfied: rapidfuzz<4.0.0,>=3.0.0 in c:\\users\\user\\anaconda3\\lib\\site-packages (from thefuzz) (3.9.0)\n",
      "\n"
     ]
    }
   ],
   "source": [
    "pip install thefuzz"
   ]
  },
  {
   "cell_type": "code",
   "execution_count": 33,
   "id": "fee6fe46",
   "metadata": {},
   "outputs": [],
   "source": [
    "from thefuzz import fuzz, process"
   ]
  },
  {
   "cell_type": "code",
   "execution_count": 35,
   "id": "ca6ec96f",
   "metadata": {},
   "outputs": [],
   "source": [
    "List_of_Twitter_Accounts = []\n",
    "List_of_Twitter_Accounts.append(\"Mr_Derivatives\")\n",
    "List_of_Twitter_Accounts.append(\"warrior_0719\")\n",
    "List_of_Twitter_Accounts.append(\"ChartingProdigy\")\n",
    "List_of_Twitter_Accounts.append(\"allstarcharts\")\n",
    "List_of_Twitter_Accounts.append(\"yuriymatso\")\n",
    "List_of_Twitter_Accounts.append(\"TriggerTrades\")\n",
    "List_of_Twitter_Accounts.append(\"AdamMancini4\")\n",
    "List_of_Twitter_Accounts.append(\"CordovaTrades\")\n",
    "List_of_Twitter_Accounts.append(\"Barchart\")\n",
    "List_of_Twitter_Accounts.append(\"RoyLMattox\")\n"
   ]
  },
  {
   "cell_type": "code",
   "execution_count": 31,
   "id": "039f94b6",
   "metadata": {},
   "outputs": [],
   "source": [
    "s1=\"$TSLA\"\n",
    "if fuzz.ratio(s1,):\n",
    "    print(data)"
   ]
  },
  {
   "cell_type": "code",
   "execution_count": 6,
   "id": "97df032e",
   "metadata": {},
   "outputs": [
    {
     "name": "stderr",
     "output_type": "stream",
     "text": [
      "Testing instances:  71%|███████▏  | 55/77 [01:21<01:43,  4.69s/it]"
     ]
    },
    {
     "name": "stdout",
     "output_type": "stream",
     "text": [
      "17-May-24 18:17:34 - Certificate did not match expected hostname: nitter.no-logs.com. Certificate: {'subject': ((('commonName', 'no-logs.com'),),), 'issuer': ((('countryName', 'US'),), (('organizationName', \"Let's Encrypt\"),), (('commonName', 'R3'),)), 'version': 3, 'serialNumber': '03D031100DF5685B02FBBE1577956863687F', 'notBefore': 'May 14 21:29:50 2024 GMT', 'notAfter': 'Aug 12 21:29:49 2024 GMT', 'subjectAltName': (('DNS', 'no-logs.com'),), 'OCSP': ('http://r3.o.lencr.org',), 'caIssuers': ('http://r3.i.lencr.org/',)}\n"
     ]
    },
    {
     "name": "stderr",
     "output_type": "stream",
     "text": [
      "Testing instances:  92%|█████████▏| 71/77 [01:51<00:07,  1.19s/it]"
     ]
    },
    {
     "name": "stdout",
     "output_type": "stream",
     "text": [
      "17-May-24 18:18:04 - Certificate did not match expected hostname: nt.ggtyler.dev. Certificate: {'subject': ((('commonName', '4g.ggtyler.dev'),),), 'issuer': ((('countryName', 'US'),), (('organizationName', \"Let's Encrypt\"),), (('commonName', 'R3'),)), 'version': 3, 'serialNumber': '03A4459CE6DA31CFF555DB78FF3F35BFEA88', 'notBefore': 'May 14 10:55:44 2024 GMT', 'notAfter': 'Aug 12 10:55:43 2024 GMT', 'subjectAltName': (('DNS', '4g.ggtyler.dev'),), 'OCSP': ('http://r3.o.lencr.org',), 'caIssuers': ('http://r3.i.lencr.org/',)}\n"
     ]
    },
    {
     "name": "stderr",
     "output_type": "stream",
     "text": [
      "\r",
      "Testing instances:  94%|█████████▎| 72/77 [01:51<00:04,  1.04it/s]"
     ]
    },
    {
     "name": "stdout",
     "output_type": "stream",
     "text": [
      "17-May-24 18:18:05 - Certificate did not match expected hostname: nitter.uni-sonia.com. Certificate: {'subject': ((('commonName', '*.xserver.jp'),),), 'issuer': ((('countryName', 'JP'),), (('organizationName', 'CloudSecure Corporation'),), (('commonName', 'CloudSecure RSA Domain Validation Secure Server CA 2'),)), 'version': 3, 'serialNumber': 'ACA67AD2030638EE2DCE8E845B8299A6', 'notBefore': 'Mar 11 00:00:00 2024 GMT', 'notAfter': 'Apr 11 23:59:59 2025 GMT', 'subjectAltName': (('DNS', '*.xserver.jp'), ('DNS', 'xserver.jp')), 'OCSP': ('http://ocsp.sectigo.com',), 'caIssuers': ('http://crt.sectigo.com/CloudSecureRSADomainValidationSecureServerCA2.crt',)}\n"
     ]
    },
    {
     "name": "stderr",
     "output_type": "stream",
     "text": [
      "Testing instances:  99%|█████████▊| 76/77 [01:58<00:01,  1.64s/it]"
     ]
    },
    {
     "name": "stdout",
     "output_type": "stream",
     "text": [
      "17-May-24 18:18:11 - Certificate did not match expected hostname: nitter.tinfoil-hat.net. Certificate: {'subject': ((('commonName', 'jelly.tinfoil-hat.de'),),), 'issuer': ((('countryName', 'US'),), (('organizationName', \"Let's Encrypt\"),), (('commonName', 'R3'),)), 'version': 3, 'serialNumber': '044FDE3E7089FB997C3D8AFDE2412CE51554', 'notBefore': 'May 15 09:29:23 2024 GMT', 'notAfter': 'Aug 13 09:29:22 2024 GMT', 'subjectAltName': (('DNS', 'jelly.tinfoil-hat.de'),), 'OCSP': ('http://r3.o.lencr.org',), 'caIssuers': ('http://r3.i.lencr.org/',)}\n"
     ]
    },
    {
     "name": "stderr",
     "output_type": "stream",
     "text": [
      "Testing instances: 100%|██████████| 77/77 [01:58<00:00,  1.54s/it]\n"
     ]
    }
   ],
   "source": [
    "import pandas as pd\n",
    "from ntscraper import Nitter\n",
    "scraper = Nitter()\n",
    "def tweets_dataset(username,no_of_tweets):\n",
    "    tweets=scraper.get_tweets(username, mode = \"user\", number = no_of_tweets)\n",
    "    data ={\n",
    "        'text':[]\n",
    "    }\n",
    "    for tweet in tweets['tweets']:\n",
    "        data['text'].append(tweet['text'])\n",
    "        df=pd.DataFrame(data)"
   ]
  },
  {
   "cell_type": "code",
   "execution_count": 38,
   "id": "3dcd1c97",
   "metadata": {},
   "outputs": [
    {
     "name": "stdout",
     "output_type": "stream",
     "text": [
      "18-May-24 06:40:59 - No instance specified, using random instance https://nitter.esmailelbob.xyz\n",
      "18-May-24 06:41:04 - Current stats for Mr_Derivatives: 10 tweets, 0 threads...\n",
      "18-May-24 06:41:04 - No instance specified, using random instance https://nitter.esmailelbob.xyz\n",
      "18-May-24 06:41:10 - Current stats for warrior_0719: 10 tweets, 0 threads...\n",
      "18-May-24 06:41:10 - No instance specified, using random instance https://nitter.esmailelbob.xyz\n",
      "18-May-24 06:41:17 - Current stats for ChartingProdigy: 10 tweets, 0 threads...\n",
      "18-May-24 06:41:17 - No instance specified, using random instance https://nitter.esmailelbob.xyz\n",
      "18-May-24 06:41:23 - Current stats for allstarcharts: 10 tweets, 0 threads...\n",
      "18-May-24 06:41:23 - No instance specified, using random instance https://nitter.privacydev.net\n",
      "18-May-24 06:41:23 - Empty page on https://nitter.privacydev.net\n",
      "18-May-24 06:41:25 - No instance specified, using random instance https://nitter.esmailelbob.xyz\n",
      "18-May-24 06:41:31 - Current stats for TriggerTrades: 10 tweets, 0 threads...\n",
      "18-May-24 06:41:31 - No instance specified, using random instance https://nitter.esmailelbob.xyz\n",
      "18-May-24 06:41:37 - Current stats for AdamMancini4: 10 tweets, 0 threads...\n",
      "18-May-24 06:41:37 - No instance specified, using random instance https://nitter.privacydev.net\n",
      "18-May-24 06:41:37 - Empty page on https://nitter.privacydev.net\n",
      "18-May-24 06:41:39 - No instance specified, using random instance https://nitter.esmailelbob.xyz\n",
      "18-May-24 06:41:45 - Current stats for Barchart: 10 tweets, 0 threads...\n",
      "18-May-24 06:41:45 - No instance specified, using random instance https://nitter.privacydev.net\n",
      "18-May-24 06:41:46 - Empty page on https://nitter.privacydev.net\n"
     ]
    }
   ],
   "source": [
    "for i in range(10):\n",
    "    tweets_dataset(List_of_Twitter_Accounts[i],10)"
   ]
  },
  {
   "cell_type": "code",
   "execution_count": 43,
   "id": "745ec4a8",
   "metadata": {},
   "outputs": [
    {
     "data": {
      "text/plain": [
       "{'text': [\"$COIN Clean wedgy.  Don't overthink it.  Buy.\",\n",
       "  '$FXI trading back to Nov 2023 highs.  $KWEB trading back to Sept 2023 highs.  $BABA was $86 in Nov 2023. And $95 in Sept 2023.  Currently BABA is $77.  YOU KNOW WHAT TO DO.  FWIW.',\n",
       "  '$GME   Tonight for dinner:',\n",
       "  '$NVDA Sometimes I just look at Nvidia’s historical stock chart and just stare at awe, but also with nervousness for those entering to “invest” here….',\n",
       "  '$GME   Hey apes.  $20 is line in the sand.  You know what to do. Lol',\n",
       "  '$WMT hitting all time highs yesterday, and this is after their 3-1 split a few months ago.  Sometimes boring and the unsexy is good.',\n",
       "  'I wouldn’t chase $FFIE here.  Went from .03 to 3.00 in 2.5 weeks.  No thanks.',\n",
       "  'Watch $PDD for a $BABA type move.',\n",
       "  '$GME   It’s over.  We all got duped again.  Congrats to the thousands who got out as millionaires.  RIP to the millions left holding the bag.',\n",
       "  \"$DJIA $INDU Something about the Dow Jones and each time it hits a milestone of 10,000's.  Massive unabated up moves EACH TIME.  Will 40,000 be any different?!\"]}"
      ]
     },
     "execution_count": 43,
     "metadata": {},
     "output_type": "execute_result"
    }
   ],
   "source": [
    "data\n"
   ]
  },
  {
   "cell_type": "code",
   "execution_count": 44,
   "id": "fb0b1a68",
   "metadata": {},
   "outputs": [
    {
     "data": {
      "text/html": [
       "<div>\n",
       "<style scoped>\n",
       "    .dataframe tbody tr th:only-of-type {\n",
       "        vertical-align: middle;\n",
       "    }\n",
       "\n",
       "    .dataframe tbody tr th {\n",
       "        vertical-align: top;\n",
       "    }\n",
       "\n",
       "    .dataframe thead th {\n",
       "        text-align: right;\n",
       "    }\n",
       "</style>\n",
       "<table border=\"1\" class=\"dataframe\">\n",
       "  <thead>\n",
       "    <tr style=\"text-align: right;\">\n",
       "      <th></th>\n",
       "      <th>text</th>\n",
       "    </tr>\n",
       "  </thead>\n",
       "  <tbody>\n",
       "    <tr>\n",
       "      <th>0</th>\n",
       "      <td>$COIN Clean wedgy.  Don't overthink it.  Buy.</td>\n",
       "    </tr>\n",
       "    <tr>\n",
       "      <th>1</th>\n",
       "      <td>$FXI trading back to Nov 2023 highs.  $KWEB tr...</td>\n",
       "    </tr>\n",
       "    <tr>\n",
       "      <th>2</th>\n",
       "      <td>$GME   Tonight for dinner:</td>\n",
       "    </tr>\n",
       "    <tr>\n",
       "      <th>3</th>\n",
       "      <td>$NVDA Sometimes I just look at Nvidia’s histor...</td>\n",
       "    </tr>\n",
       "    <tr>\n",
       "      <th>4</th>\n",
       "      <td>$GME   Hey apes.  $20 is line in the sand.  Yo...</td>\n",
       "    </tr>\n",
       "  </tbody>\n",
       "</table>\n",
       "</div>"
      ],
      "text/plain": [
       "                                                text\n",
       "0      $COIN Clean wedgy.  Don't overthink it.  Buy.\n",
       "1  $FXI trading back to Nov 2023 highs.  $KWEB tr...\n",
       "2                         $GME   Tonight for dinner:\n",
       "3  $NVDA Sometimes I just look at Nvidia’s histor...\n",
       "4  $GME   Hey apes.  $20 is line in the sand.  Yo..."
      ]
     },
     "execution_count": 44,
     "metadata": {},
     "output_type": "execute_result"
    }
   ],
   "source": [
    "df=pd.DataFrame(data)\n",
    "df.head()"
   ]
  },
  {
   "cell_type": "code",
   "execution_count": null,
   "id": "abe688ad",
   "metadata": {},
   "outputs": [],
   "source": [
    " "
   ]
  }
 ],
 "metadata": {
  "kernelspec": {
   "display_name": "Python 3 (ipykernel)",
   "language": "python",
   "name": "python3"
  },
  "language_info": {
   "codemirror_mode": {
    "name": "ipython",
    "version": 3
   },
   "file_extension": ".py",
   "mimetype": "text/x-python",
   "name": "python",
   "nbconvert_exporter": "python",
   "pygments_lexer": "ipython3",
   "version": "3.9.12"
  }
 },
 "nbformat": 4,
 "nbformat_minor": 5
}
